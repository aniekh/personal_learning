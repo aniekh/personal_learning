{
  "nbformat": 4,
  "nbformat_minor": 0,
  "metadata": {
    "colab": {
      "name": "learninggoal3.ipynb",
      "provenance": [],
      "authorship_tag": "ABX9TyNFZ6PFuajSwK/E+JE1j+Tc",
      "include_colab_link": true
    },
    "kernelspec": {
      "name": "python3",
      "display_name": "Python 3"
    },
    "language_info": {
      "name": "python"
    }
  },
  "cells": [
    {
      "cell_type": "markdown",
      "metadata": {
        "id": "view-in-github",
        "colab_type": "text"
      },
      "source": [
        "<a href=\"https://colab.research.google.com/github/aniekh/personal_learning/blob/main/learninggoal3.ipynb\" target=\"_parent\"><img src=\"https://colab.research.google.com/assets/colab-badge.svg\" alt=\"Open In Colab\"/></a>"
      ]
    },
    {
      "cell_type": "markdown",
      "source": [
        "# Learning goal 3: Random Forest regression \n",
        "\n",
        "\n"
      ],
      "metadata": {
        "id": "-tch1mxof8pi"
      }
    },
    {
      "cell_type": "markdown",
      "source": [
        "### Original learning goal:\n",
        "\n",
        "\"*I want to learn how to perform statistical analyses on large volumes of data. Currently I have some basic knowledge on how to perform statistical analyses, but have never structurally applied this to large volumes of data. At the end of this course I want to know relevant techniques for analysing data. Therefore I will produce a working Python Jupyter notebook with a procedure that demonstrates a commonly used way to perform statistical analyses on large volumes of data in a structural way.*\""
      ],
      "metadata": {
        "id": "DkP9D22Ff7w_"
      }
    },
    {
      "cell_type": "markdown",
      "source": [
        "# Introduction\n",
        "Instead of looking at multiple statistical analyses I have decided to look into only one. I wanted to learn more on machine learning, especially on the random forest algorithm. In the course we have worked on classification with the help of decision trees and random forests, however as a environmental scientist a regression analyises using the random forest algorithm would be more exciting for me. I would see this as a usefull tool in e.g. weather data, to identify outliers and predict future temperatures and explore other interesting parameters. In this notebook I will be using KNMI weather data from the year 2021 to train an algorithm to predict the average temperature of a day using the temperatures from previous days. "
      ],
      "metadata": {
        "id": "eCjkRPCbgG6s"
      }
    },
    {
      "cell_type": "markdown",
      "source": [
        "We start by importing relevant packages and getting the data. \n",
        "\n"
      ],
      "metadata": {
        "id": "xiffXChzgG87"
      }
    },
    {
      "cell_type": "code",
      "source": [
        "#run only when geopandas is not yet installed\n",
        "!pip install geopandas\n"
      ],
      "metadata": {
        "colab": {
          "base_uri": "https://localhost:8080/"
        },
        "id": "YWiCnbJL83O5",
        "outputId": "1ca71bed-1357-4126-a50c-ffb354d3c51a"
      },
      "execution_count": null,
      "outputs": [
        {
          "output_type": "stream",
          "name": "stdout",
          "text": [
            "Requirement already satisfied: geopandas in /usr/local/lib/python3.7/dist-packages (0.10.2)\n",
            "Requirement already satisfied: fiona>=1.8 in /usr/local/lib/python3.7/dist-packages (from geopandas) (1.8.21)\n",
            "Requirement already satisfied: pyproj>=2.2.0 in /usr/local/lib/python3.7/dist-packages (from geopandas) (3.2.1)\n",
            "Requirement already satisfied: pandas>=0.25.0 in /usr/local/lib/python3.7/dist-packages (from geopandas) (1.3.5)\n",
            "Requirement already satisfied: shapely>=1.6 in /usr/local/lib/python3.7/dist-packages (from geopandas) (1.8.1.post1)\n",
            "Requirement already satisfied: certifi in /usr/local/lib/python3.7/dist-packages (from fiona>=1.8->geopandas) (2021.10.8)\n",
            "Requirement already satisfied: munch in /usr/local/lib/python3.7/dist-packages (from fiona>=1.8->geopandas) (2.5.0)\n",
            "Requirement already satisfied: click>=4.0 in /usr/local/lib/python3.7/dist-packages (from fiona>=1.8->geopandas) (7.1.2)\n",
            "Requirement already satisfied: cligj>=0.5 in /usr/local/lib/python3.7/dist-packages (from fiona>=1.8->geopandas) (0.7.2)\n",
            "Requirement already satisfied: setuptools in /usr/local/lib/python3.7/dist-packages (from fiona>=1.8->geopandas) (57.4.0)\n",
            "Requirement already satisfied: attrs>=17 in /usr/local/lib/python3.7/dist-packages (from fiona>=1.8->geopandas) (21.4.0)\n",
            "Requirement already satisfied: six>=1.7 in /usr/local/lib/python3.7/dist-packages (from fiona>=1.8->geopandas) (1.15.0)\n",
            "Requirement already satisfied: click-plugins>=1.0 in /usr/local/lib/python3.7/dist-packages (from fiona>=1.8->geopandas) (1.1.1)\n",
            "Requirement already satisfied: numpy>=1.17.3 in /usr/local/lib/python3.7/dist-packages (from pandas>=0.25.0->geopandas) (1.21.6)\n",
            "Requirement already satisfied: python-dateutil>=2.7.3 in /usr/local/lib/python3.7/dist-packages (from pandas>=0.25.0->geopandas) (2.8.2)\n",
            "Requirement already satisfied: pytz>=2017.3 in /usr/local/lib/python3.7/dist-packages (from pandas>=0.25.0->geopandas) (2022.1)\n"
          ]
        }
      ]
    },
    {
      "cell_type": "code",
      "source": [
        "# Load all importance packages\n",
        "import geopandas as gpd\n",
        "import numpy as np\n",
        "import pandas as pd\n",
        "import seaborn as sns\n",
        "import pydot\n",
        "import datetime\n",
        "import matplotlib.pyplot as plt\n",
        "from sklearn.model_selection import train_test_split\n",
        "from sklearn.ensemble import RandomForestRegressor\n",
        "from sklearn.tree import export_graphviz\n",
        "\n"
      ],
      "metadata": {
        "id": "0OUXVtN-83Wi"
      },
      "execution_count": null,
      "outputs": []
    },
    {
      "cell_type": "code",
      "source": [
        "weather_data = pd.read_csv('/content/weather_data.csv', delimiter=';')\n",
        "weather_data.head()\n"
      ],
      "metadata": {
        "colab": {
          "base_uri": "https://localhost:8080/",
          "height": 206
        },
        "id": "WU2zfxwU8vTT",
        "outputId": "39e17c04-dcb6-4f63-c809-2e149f9996b0"
      },
      "execution_count": null,
      "outputs": [
        {
          "output_type": "execute_result",
          "data": {
            "text/plain": [
              "   YYYYMMDD  year  month  day  mean  mean_2  mean_1  min_2  min_1  max_2  \\\n",
              "0  20210101  2021      1    1   3.0     3.7     4.2    2.5    2.4    5.8   \n",
              "1  20210102  2021      1    2   3.6     4.2     3.0    2.4   -3.5    6.8   \n",
              "2  20210103  2021      1    3   3.3     3.0     3.6   -3.5    3.1    5.7   \n",
              "3  20210104  2021      1    4   2.8     3.6     3.3    3.1    2.8    4.5   \n",
              "4  20210105  2021      1    5   2.9     3.3     2.8    2.8    2.3    4.0   \n",
              "\n",
              "   max_1  hist  \n",
              "0    6.8  4.47  \n",
              "1    5.7  4.93  \n",
              "2    4.5  5.23  \n",
              "3    4.0  4.99  \n",
              "4    3.6  4.47  "
            ],
            "text/html": [
              "\n",
              "  <div id=\"df-b02652a5-6da0-451b-9704-57e8f3c9d7c5\">\n",
              "    <div class=\"colab-df-container\">\n",
              "      <div>\n",
              "<style scoped>\n",
              "    .dataframe tbody tr th:only-of-type {\n",
              "        vertical-align: middle;\n",
              "    }\n",
              "\n",
              "    .dataframe tbody tr th {\n",
              "        vertical-align: top;\n",
              "    }\n",
              "\n",
              "    .dataframe thead th {\n",
              "        text-align: right;\n",
              "    }\n",
              "</style>\n",
              "<table border=\"1\" class=\"dataframe\">\n",
              "  <thead>\n",
              "    <tr style=\"text-align: right;\">\n",
              "      <th></th>\n",
              "      <th>YYYYMMDD</th>\n",
              "      <th>year</th>\n",
              "      <th>month</th>\n",
              "      <th>day</th>\n",
              "      <th>mean</th>\n",
              "      <th>mean_2</th>\n",
              "      <th>mean_1</th>\n",
              "      <th>min_2</th>\n",
              "      <th>min_1</th>\n",
              "      <th>max_2</th>\n",
              "      <th>max_1</th>\n",
              "      <th>hist</th>\n",
              "    </tr>\n",
              "  </thead>\n",
              "  <tbody>\n",
              "    <tr>\n",
              "      <th>0</th>\n",
              "      <td>20210101</td>\n",
              "      <td>2021</td>\n",
              "      <td>1</td>\n",
              "      <td>1</td>\n",
              "      <td>3.0</td>\n",
              "      <td>3.7</td>\n",
              "      <td>4.2</td>\n",
              "      <td>2.5</td>\n",
              "      <td>2.4</td>\n",
              "      <td>5.8</td>\n",
              "      <td>6.8</td>\n",
              "      <td>4.47</td>\n",
              "    </tr>\n",
              "    <tr>\n",
              "      <th>1</th>\n",
              "      <td>20210102</td>\n",
              "      <td>2021</td>\n",
              "      <td>1</td>\n",
              "      <td>2</td>\n",
              "      <td>3.6</td>\n",
              "      <td>4.2</td>\n",
              "      <td>3.0</td>\n",
              "      <td>2.4</td>\n",
              "      <td>-3.5</td>\n",
              "      <td>6.8</td>\n",
              "      <td>5.7</td>\n",
              "      <td>4.93</td>\n",
              "    </tr>\n",
              "    <tr>\n",
              "      <th>2</th>\n",
              "      <td>20210103</td>\n",
              "      <td>2021</td>\n",
              "      <td>1</td>\n",
              "      <td>3</td>\n",
              "      <td>3.3</td>\n",
              "      <td>3.0</td>\n",
              "      <td>3.6</td>\n",
              "      <td>-3.5</td>\n",
              "      <td>3.1</td>\n",
              "      <td>5.7</td>\n",
              "      <td>4.5</td>\n",
              "      <td>5.23</td>\n",
              "    </tr>\n",
              "    <tr>\n",
              "      <th>3</th>\n",
              "      <td>20210104</td>\n",
              "      <td>2021</td>\n",
              "      <td>1</td>\n",
              "      <td>4</td>\n",
              "      <td>2.8</td>\n",
              "      <td>3.6</td>\n",
              "      <td>3.3</td>\n",
              "      <td>3.1</td>\n",
              "      <td>2.8</td>\n",
              "      <td>4.5</td>\n",
              "      <td>4.0</td>\n",
              "      <td>4.99</td>\n",
              "    </tr>\n",
              "    <tr>\n",
              "      <th>4</th>\n",
              "      <td>20210105</td>\n",
              "      <td>2021</td>\n",
              "      <td>1</td>\n",
              "      <td>5</td>\n",
              "      <td>2.9</td>\n",
              "      <td>3.3</td>\n",
              "      <td>2.8</td>\n",
              "      <td>2.8</td>\n",
              "      <td>2.3</td>\n",
              "      <td>4.0</td>\n",
              "      <td>3.6</td>\n",
              "      <td>4.47</td>\n",
              "    </tr>\n",
              "  </tbody>\n",
              "</table>\n",
              "</div>\n",
              "      <button class=\"colab-df-convert\" onclick=\"convertToInteractive('df-b02652a5-6da0-451b-9704-57e8f3c9d7c5')\"\n",
              "              title=\"Convert this dataframe to an interactive table.\"\n",
              "              style=\"display:none;\">\n",
              "        \n",
              "  <svg xmlns=\"http://www.w3.org/2000/svg\" height=\"24px\"viewBox=\"0 0 24 24\"\n",
              "       width=\"24px\">\n",
              "    <path d=\"M0 0h24v24H0V0z\" fill=\"none\"/>\n",
              "    <path d=\"M18.56 5.44l.94 2.06.94-2.06 2.06-.94-2.06-.94-.94-2.06-.94 2.06-2.06.94zm-11 1L8.5 8.5l.94-2.06 2.06-.94-2.06-.94L8.5 2.5l-.94 2.06-2.06.94zm10 10l.94 2.06.94-2.06 2.06-.94-2.06-.94-.94-2.06-.94 2.06-2.06.94z\"/><path d=\"M17.41 7.96l-1.37-1.37c-.4-.4-.92-.59-1.43-.59-.52 0-1.04.2-1.43.59L10.3 9.45l-7.72 7.72c-.78.78-.78 2.05 0 2.83L4 21.41c.39.39.9.59 1.41.59.51 0 1.02-.2 1.41-.59l7.78-7.78 2.81-2.81c.8-.78.8-2.07 0-2.86zM5.41 20L4 18.59l7.72-7.72 1.47 1.35L5.41 20z\"/>\n",
              "  </svg>\n",
              "      </button>\n",
              "      \n",
              "  <style>\n",
              "    .colab-df-container {\n",
              "      display:flex;\n",
              "      flex-wrap:wrap;\n",
              "      gap: 12px;\n",
              "    }\n",
              "\n",
              "    .colab-df-convert {\n",
              "      background-color: #E8F0FE;\n",
              "      border: none;\n",
              "      border-radius: 50%;\n",
              "      cursor: pointer;\n",
              "      display: none;\n",
              "      fill: #1967D2;\n",
              "      height: 32px;\n",
              "      padding: 0 0 0 0;\n",
              "      width: 32px;\n",
              "    }\n",
              "\n",
              "    .colab-df-convert:hover {\n",
              "      background-color: #E2EBFA;\n",
              "      box-shadow: 0px 1px 2px rgba(60, 64, 67, 0.3), 0px 1px 3px 1px rgba(60, 64, 67, 0.15);\n",
              "      fill: #174EA6;\n",
              "    }\n",
              "\n",
              "    [theme=dark] .colab-df-convert {\n",
              "      background-color: #3B4455;\n",
              "      fill: #D2E3FC;\n",
              "    }\n",
              "\n",
              "    [theme=dark] .colab-df-convert:hover {\n",
              "      background-color: #434B5C;\n",
              "      box-shadow: 0px 1px 3px 1px rgba(0, 0, 0, 0.15);\n",
              "      filter: drop-shadow(0px 1px 2px rgba(0, 0, 0, 0.3));\n",
              "      fill: #FFFFFF;\n",
              "    }\n",
              "  </style>\n",
              "\n",
              "      <script>\n",
              "        const buttonEl =\n",
              "          document.querySelector('#df-b02652a5-6da0-451b-9704-57e8f3c9d7c5 button.colab-df-convert');\n",
              "        buttonEl.style.display =\n",
              "          google.colab.kernel.accessAllowed ? 'block' : 'none';\n",
              "\n",
              "        async function convertToInteractive(key) {\n",
              "          const element = document.querySelector('#df-b02652a5-6da0-451b-9704-57e8f3c9d7c5');\n",
              "          const dataTable =\n",
              "            await google.colab.kernel.invokeFunction('convertToInteractive',\n",
              "                                                     [key], {});\n",
              "          if (!dataTable) return;\n",
              "\n",
              "          const docLinkHtml = 'Like what you see? Visit the ' +\n",
              "            '<a target=\"_blank\" href=https://colab.research.google.com/notebooks/data_table.ipynb>data table notebook</a>'\n",
              "            + ' to learn more about interactive tables.';\n",
              "          element.innerHTML = '';\n",
              "          dataTable['output_type'] = 'display_data';\n",
              "          await google.colab.output.renderOutput(dataTable, element);\n",
              "          const docLink = document.createElement('div');\n",
              "          docLink.innerHTML = docLinkHtml;\n",
              "          element.appendChild(docLink);\n",
              "        }\n",
              "      </script>\n",
              "    </div>\n",
              "  </div>\n",
              "  "
            ]
          },
          "metadata": {},
          "execution_count": 22
        }
      ]
    },
    {
      "cell_type": "markdown",
      "source": [
        "The data describes the following things:\n",
        "* year: 2021 for all data points\n",
        "* month: number for month of the year\n",
        "* day: number for day of the month\n",
        "* mean: actual mean temperature\n",
        "* mean_2: mean temperature 2 days prior\n",
        "* mean_1: mean temperature 1 day prior\n",
        "* min_2: min temperature 2 days prior\n",
        "* min_1: min temperature 1 day prior\n",
        "* max_2: max temperature 2 days prior\n",
        "* max_1: max temperature 1 day prior\n",
        "* hist: historical average temperatue on that day over the previous 10 years\n",
        "\n",
        "First lets check if the table is complete, the table should contain 365 days."
      ],
      "metadata": {
        "id": "gsZ4KiS2GzkS"
      }
    },
    {
      "cell_type": "code",
      "source": [
        "weather_data.shape"
      ],
      "metadata": {
        "colab": {
          "base_uri": "https://localhost:8080/"
        },
        "id": "fDPcjnvBKIPF",
        "outputId": "d8a18775-e780-4e61-8121-de04387a3c59"
      },
      "execution_count": null,
      "outputs": [
        {
          "output_type": "execute_result",
          "data": {
            "text/plain": [
              "(365, 12)"
            ]
          },
          "metadata": {},
          "execution_count": 23
        }
      ]
    },
    {
      "cell_type": "markdown",
      "source": [
        "luckely, it does! Lets check if there are any weird values before we move on."
      ],
      "metadata": {
        "id": "5BF66jacKZyo"
      }
    },
    {
      "cell_type": "code",
      "source": [
        "weather_data.describe()"
      ],
      "metadata": {
        "colab": {
          "base_uri": "https://localhost:8080/",
          "height": 300
        },
        "id": "VUQeySjkKe3O",
        "outputId": "e6a4bb64-0abb-4c11-89bd-026742a4b860"
      },
      "execution_count": null,
      "outputs": [
        {
          "output_type": "execute_result",
          "data": {
            "text/plain": [
              "           YYYYMMDD    year       month         day        mean      mean_2  \\\n",
              "count  3.650000e+02   365.0  365.000000  365.000000  365.000000  365.000000   \n",
              "mean   2.021067e+07  2021.0    6.526027   15.720548   10.481096   10.432329   \n",
              "std    3.454755e+02     0.0    3.452584    8.808321    6.109086    6.125554   \n",
              "min    2.021010e+07  2021.0    1.000000    1.000000   -5.800000   -5.800000   \n",
              "25%    2.021040e+07  2021.0    4.000000    8.000000    5.700000    5.600000   \n",
              "50%    2.021070e+07  2021.0    7.000000   16.000000   10.300000   10.200000   \n",
              "75%    2.021100e+07  2021.0   10.000000   23.000000   16.300000   16.300000   \n",
              "max    2.021123e+07  2021.0   12.000000   31.000000   24.000000   24.000000   \n",
              "\n",
              "           mean_1       min_2       min_1       max_2       max_1        hist  \n",
              "count  365.000000  365.000000  365.000000  365.000000  365.000000  365.000000  \n",
              "mean    10.457534    6.173151    6.193699   14.335342   14.357534   10.785342  \n",
              "std      6.116698    5.785435    5.785672    6.961242    6.946853    5.353682  \n",
              "min     -5.800000  -10.900000  -10.900000   -4.800000   -4.800000    1.500000  \n",
              "25%      5.700000    1.900000    1.900000    9.200000    9.200000    5.670000  \n",
              "50%     10.200000    6.300000    6.300000   14.100000   14.100000   10.540000  \n",
              "75%     16.300000   11.000000   11.000000   20.300000   20.300000   16.060000  \n",
              "max     24.000000   18.800000   18.800000   30.800000   30.800000   20.200000  "
            ],
            "text/html": [
              "\n",
              "  <div id=\"df-ccfd5ae0-d1fc-4f2c-b92e-232ff9b3184c\">\n",
              "    <div class=\"colab-df-container\">\n",
              "      <div>\n",
              "<style scoped>\n",
              "    .dataframe tbody tr th:only-of-type {\n",
              "        vertical-align: middle;\n",
              "    }\n",
              "\n",
              "    .dataframe tbody tr th {\n",
              "        vertical-align: top;\n",
              "    }\n",
              "\n",
              "    .dataframe thead th {\n",
              "        text-align: right;\n",
              "    }\n",
              "</style>\n",
              "<table border=\"1\" class=\"dataframe\">\n",
              "  <thead>\n",
              "    <tr style=\"text-align: right;\">\n",
              "      <th></th>\n",
              "      <th>YYYYMMDD</th>\n",
              "      <th>year</th>\n",
              "      <th>month</th>\n",
              "      <th>day</th>\n",
              "      <th>mean</th>\n",
              "      <th>mean_2</th>\n",
              "      <th>mean_1</th>\n",
              "      <th>min_2</th>\n",
              "      <th>min_1</th>\n",
              "      <th>max_2</th>\n",
              "      <th>max_1</th>\n",
              "      <th>hist</th>\n",
              "    </tr>\n",
              "  </thead>\n",
              "  <tbody>\n",
              "    <tr>\n",
              "      <th>count</th>\n",
              "      <td>3.650000e+02</td>\n",
              "      <td>365.0</td>\n",
              "      <td>365.000000</td>\n",
              "      <td>365.000000</td>\n",
              "      <td>365.000000</td>\n",
              "      <td>365.000000</td>\n",
              "      <td>365.000000</td>\n",
              "      <td>365.000000</td>\n",
              "      <td>365.000000</td>\n",
              "      <td>365.000000</td>\n",
              "      <td>365.000000</td>\n",
              "      <td>365.000000</td>\n",
              "    </tr>\n",
              "    <tr>\n",
              "      <th>mean</th>\n",
              "      <td>2.021067e+07</td>\n",
              "      <td>2021.0</td>\n",
              "      <td>6.526027</td>\n",
              "      <td>15.720548</td>\n",
              "      <td>10.481096</td>\n",
              "      <td>10.432329</td>\n",
              "      <td>10.457534</td>\n",
              "      <td>6.173151</td>\n",
              "      <td>6.193699</td>\n",
              "      <td>14.335342</td>\n",
              "      <td>14.357534</td>\n",
              "      <td>10.785342</td>\n",
              "    </tr>\n",
              "    <tr>\n",
              "      <th>std</th>\n",
              "      <td>3.454755e+02</td>\n",
              "      <td>0.0</td>\n",
              "      <td>3.452584</td>\n",
              "      <td>8.808321</td>\n",
              "      <td>6.109086</td>\n",
              "      <td>6.125554</td>\n",
              "      <td>6.116698</td>\n",
              "      <td>5.785435</td>\n",
              "      <td>5.785672</td>\n",
              "      <td>6.961242</td>\n",
              "      <td>6.946853</td>\n",
              "      <td>5.353682</td>\n",
              "    </tr>\n",
              "    <tr>\n",
              "      <th>min</th>\n",
              "      <td>2.021010e+07</td>\n",
              "      <td>2021.0</td>\n",
              "      <td>1.000000</td>\n",
              "      <td>1.000000</td>\n",
              "      <td>-5.800000</td>\n",
              "      <td>-5.800000</td>\n",
              "      <td>-5.800000</td>\n",
              "      <td>-10.900000</td>\n",
              "      <td>-10.900000</td>\n",
              "      <td>-4.800000</td>\n",
              "      <td>-4.800000</td>\n",
              "      <td>1.500000</td>\n",
              "    </tr>\n",
              "    <tr>\n",
              "      <th>25%</th>\n",
              "      <td>2.021040e+07</td>\n",
              "      <td>2021.0</td>\n",
              "      <td>4.000000</td>\n",
              "      <td>8.000000</td>\n",
              "      <td>5.700000</td>\n",
              "      <td>5.600000</td>\n",
              "      <td>5.700000</td>\n",
              "      <td>1.900000</td>\n",
              "      <td>1.900000</td>\n",
              "      <td>9.200000</td>\n",
              "      <td>9.200000</td>\n",
              "      <td>5.670000</td>\n",
              "    </tr>\n",
              "    <tr>\n",
              "      <th>50%</th>\n",
              "      <td>2.021070e+07</td>\n",
              "      <td>2021.0</td>\n",
              "      <td>7.000000</td>\n",
              "      <td>16.000000</td>\n",
              "      <td>10.300000</td>\n",
              "      <td>10.200000</td>\n",
              "      <td>10.200000</td>\n",
              "      <td>6.300000</td>\n",
              "      <td>6.300000</td>\n",
              "      <td>14.100000</td>\n",
              "      <td>14.100000</td>\n",
              "      <td>10.540000</td>\n",
              "    </tr>\n",
              "    <tr>\n",
              "      <th>75%</th>\n",
              "      <td>2.021100e+07</td>\n",
              "      <td>2021.0</td>\n",
              "      <td>10.000000</td>\n",
              "      <td>23.000000</td>\n",
              "      <td>16.300000</td>\n",
              "      <td>16.300000</td>\n",
              "      <td>16.300000</td>\n",
              "      <td>11.000000</td>\n",
              "      <td>11.000000</td>\n",
              "      <td>20.300000</td>\n",
              "      <td>20.300000</td>\n",
              "      <td>16.060000</td>\n",
              "    </tr>\n",
              "    <tr>\n",
              "      <th>max</th>\n",
              "      <td>2.021123e+07</td>\n",
              "      <td>2021.0</td>\n",
              "      <td>12.000000</td>\n",
              "      <td>31.000000</td>\n",
              "      <td>24.000000</td>\n",
              "      <td>24.000000</td>\n",
              "      <td>24.000000</td>\n",
              "      <td>18.800000</td>\n",
              "      <td>18.800000</td>\n",
              "      <td>30.800000</td>\n",
              "      <td>30.800000</td>\n",
              "      <td>20.200000</td>\n",
              "    </tr>\n",
              "  </tbody>\n",
              "</table>\n",
              "</div>\n",
              "      <button class=\"colab-df-convert\" onclick=\"convertToInteractive('df-ccfd5ae0-d1fc-4f2c-b92e-232ff9b3184c')\"\n",
              "              title=\"Convert this dataframe to an interactive table.\"\n",
              "              style=\"display:none;\">\n",
              "        \n",
              "  <svg xmlns=\"http://www.w3.org/2000/svg\" height=\"24px\"viewBox=\"0 0 24 24\"\n",
              "       width=\"24px\">\n",
              "    <path d=\"M0 0h24v24H0V0z\" fill=\"none\"/>\n",
              "    <path d=\"M18.56 5.44l.94 2.06.94-2.06 2.06-.94-2.06-.94-.94-2.06-.94 2.06-2.06.94zm-11 1L8.5 8.5l.94-2.06 2.06-.94-2.06-.94L8.5 2.5l-.94 2.06-2.06.94zm10 10l.94 2.06.94-2.06 2.06-.94-2.06-.94-.94-2.06-.94 2.06-2.06.94z\"/><path d=\"M17.41 7.96l-1.37-1.37c-.4-.4-.92-.59-1.43-.59-.52 0-1.04.2-1.43.59L10.3 9.45l-7.72 7.72c-.78.78-.78 2.05 0 2.83L4 21.41c.39.39.9.59 1.41.59.51 0 1.02-.2 1.41-.59l7.78-7.78 2.81-2.81c.8-.78.8-2.07 0-2.86zM5.41 20L4 18.59l7.72-7.72 1.47 1.35L5.41 20z\"/>\n",
              "  </svg>\n",
              "      </button>\n",
              "      \n",
              "  <style>\n",
              "    .colab-df-container {\n",
              "      display:flex;\n",
              "      flex-wrap:wrap;\n",
              "      gap: 12px;\n",
              "    }\n",
              "\n",
              "    .colab-df-convert {\n",
              "      background-color: #E8F0FE;\n",
              "      border: none;\n",
              "      border-radius: 50%;\n",
              "      cursor: pointer;\n",
              "      display: none;\n",
              "      fill: #1967D2;\n",
              "      height: 32px;\n",
              "      padding: 0 0 0 0;\n",
              "      width: 32px;\n",
              "    }\n",
              "\n",
              "    .colab-df-convert:hover {\n",
              "      background-color: #E2EBFA;\n",
              "      box-shadow: 0px 1px 2px rgba(60, 64, 67, 0.3), 0px 1px 3px 1px rgba(60, 64, 67, 0.15);\n",
              "      fill: #174EA6;\n",
              "    }\n",
              "\n",
              "    [theme=dark] .colab-df-convert {\n",
              "      background-color: #3B4455;\n",
              "      fill: #D2E3FC;\n",
              "    }\n",
              "\n",
              "    [theme=dark] .colab-df-convert:hover {\n",
              "      background-color: #434B5C;\n",
              "      box-shadow: 0px 1px 3px 1px rgba(0, 0, 0, 0.15);\n",
              "      filter: drop-shadow(0px 1px 2px rgba(0, 0, 0, 0.3));\n",
              "      fill: #FFFFFF;\n",
              "    }\n",
              "  </style>\n",
              "\n",
              "      <script>\n",
              "        const buttonEl =\n",
              "          document.querySelector('#df-ccfd5ae0-d1fc-4f2c-b92e-232ff9b3184c button.colab-df-convert');\n",
              "        buttonEl.style.display =\n",
              "          google.colab.kernel.accessAllowed ? 'block' : 'none';\n",
              "\n",
              "        async function convertToInteractive(key) {\n",
              "          const element = document.querySelector('#df-ccfd5ae0-d1fc-4f2c-b92e-232ff9b3184c');\n",
              "          const dataTable =\n",
              "            await google.colab.kernel.invokeFunction('convertToInteractive',\n",
              "                                                     [key], {});\n",
              "          if (!dataTable) return;\n",
              "\n",
              "          const docLinkHtml = 'Like what you see? Visit the ' +\n",
              "            '<a target=\"_blank\" href=https://colab.research.google.com/notebooks/data_table.ipynb>data table notebook</a>'\n",
              "            + ' to learn more about interactive tables.';\n",
              "          element.innerHTML = '';\n",
              "          dataTable['output_type'] = 'display_data';\n",
              "          await google.colab.output.renderOutput(dataTable, element);\n",
              "          const docLink = document.createElement('div');\n",
              "          docLink.innerHTML = docLinkHtml;\n",
              "          element.appendChild(docLink);\n",
              "        }\n",
              "      </script>\n",
              "    </div>\n",
              "  </div>\n",
              "  "
            ]
          },
          "metadata": {},
          "execution_count": 24
        }
      ]
    },
    {
      "cell_type": "markdown",
      "source": [
        "Nothing seems off, but lets try one last step: lets plot the mean temperatures real quick and see if there is anything wrong there. "
      ],
      "metadata": {
        "id": "R7F4IcQdLp6D"
      }
    },
    {
      "cell_type": "code",
      "source": [
        "weather_data.plot(y='mean')\n",
        "weather_data.plot(y='mean_1')\n",
        "weather_data.plot(y='mean_2')\n",
        "weather_data.plot(y='hist')"
      ],
      "metadata": {
        "colab": {
          "base_uri": "https://localhost:8080/",
          "height": 1000
        },
        "id": "z6OhF_gRK1tF",
        "outputId": "c7ad504d-54e3-4b93-a576-120ba5eea31d"
      },
      "execution_count": null,
      "outputs": [
        {
          "output_type": "execute_result",
          "data": {
            "text/plain": [
              "<matplotlib.axes._subplots.AxesSubplot at 0x7ff118bba350>"
            ]
          },
          "metadata": {},
          "execution_count": 27
        },
        {
          "output_type": "display_data",
          "data": {
            "text/plain": [
              "<Figure size 432x288 with 1 Axes>"
            ],
            "image/png": "[encoded data removed]"
          },
          "metadata": {
            "needs_background": "light"
          }
        },
        {
          "output_type": "display_data",
          "data": {
            "text/plain": [
              "<Figure size 432x288 with 1 Axes>"
            ],
            "image/png": "[encoded data removed]"
          },
          "metadata": {
            "needs_background": "light"
          }
        },
        {
          "output_type": "display_data",
          "data": {
            "text/plain": [
              "<Figure size 432x288 with 1 Axes>"
            ],
            "image/png": "[encoded data removed]"
          },
          "metadata": {
            "needs_background": "light"
          }
        },
        {
          "output_type": "display_data",
          "data": {
            "text/plain": [
              "<Figure size 432x288 with 1 Axes>"
            ],
            "image/png": "[encoded data removed]"
          },
          "metadata": {
            "needs_background": "light"
          }
        }
      ]
    },
    {
      "cell_type": "markdown",
      "source": [
        "Everything seems normal, we can now feel confident in the quality of our data. Let's get on with the real work!\n",
        "\n",
        "First we need to take the mean temperature data out of our dataframe, because this is what we want to predict. "
      ],
      "metadata": {
        "id": "sNZs5cPDKyyZ"
      }
    },
    {
      "cell_type": "code",
      "source": [
        "# Labels are the values we want to predict, so the mean temperature of that day\n",
        "labels = np.array(weather_data['mean'])\n",
        "\n",
        "# Remove the labels from the original dataframe\n",
        "weather_data = weather_data.drop('mean', axis = 1)\n",
        "\n",
        "# Saving feature names for later use, to check the importances of each parameter\n",
        "weather_data_list = list(weather_data.columns)\n",
        "\n",
        "# Convert the dataframe to a numpy array\n",
        "weather_data = np.array(weather_data)"
      ],
      "metadata": {
        "id": "7oXnqdlizTlD"
      },
      "execution_count": null,
      "outputs": []
    },
    {
      "cell_type": "markdown",
      "source": [
        "Okay now we have to split our data into training and testing sets and make the actual model. We'll make a model using 1000 decision trees.  "
      ],
      "metadata": {
        "id": "6NJt9YH-Ijv8"
      }
    },
    {
      "cell_type": "code",
      "source": [
        "# Split the data into training and testing sets\n",
        "train_features, test_features, train_labels, test_labels = train_test_split(weather_data, labels, test_size = 0.25, random_state = 42)\n"
      ],
      "metadata": {
        "id": "LqtW0ya30dZg"
      },
      "execution_count": null,
      "outputs": []
    },
    {
      "cell_type": "code",
      "source": [
        "# Lets make a model with 1000 decision trees\n",
        "rf = RandomForestRegressor(n_estimators = 1000, random_state = 42)\n",
        "# Train the model on training data\n",
        "rf.fit(train_features, train_labels);"
      ],
      "metadata": {
        "id": "naqJA2I20ve5"
      },
      "execution_count": null,
      "outputs": []
    },
    {
      "cell_type": "markdown",
      "source": [
        "Lets check the accuracy of our model. First we'll calculate the mean absolute error and then use this to find the accuracy"
      ],
      "metadata": {
        "id": "AcrsxAthIz_k"
      }
    },
    {
      "cell_type": "code",
      "source": [
        "predictions = rf.predict(test_features)\n",
        "\n",
        "errors = abs(predictions - test_labels)\n",
        "print('Mean Absolute Error:', round(np.mean(errors), 2), 'degrees.')"
      ],
      "metadata": {
        "colab": {
          "base_uri": "https://localhost:8080/"
        },
        "id": "WPBrWBH61B4q",
        "outputId": "99398dba-36da-4694-8176-ca8569ec58ee"
      },
      "execution_count": null,
      "outputs": [
        {
          "output_type": "stream",
          "name": "stdout",
          "text": [
            "Mean Absolute Error: 1.53 degrees.\n"
          ]
        }
      ]
    },
    {
      "cell_type": "code",
      "source": [
        "# Calculate mean absolute percentage error (MAPE)\n",
        "mape = 100 * (errors / test_labels)\n",
        "\n",
        "accuracy = 100 - np.mean(mape)\n",
        "print('Accuracy:', round(accuracy, 2), '%.')\n"
      ],
      "metadata": {
        "colab": {
          "base_uri": "https://localhost:8080/"
        },
        "id": "vef2x1zw1IIr",
        "outputId": "144e9aca-3c6a-4710-ebd0-8a54a9f1da44"
      },
      "execution_count": null,
      "outputs": [
        {
          "output_type": "stream",
          "name": "stdout",
          "text": [
            "Accuracy: 78.32 %.\n"
          ]
        }
      ]
    },
    {
      "cell_type": "markdown",
      "source": [
        "So our model has an accuracy of a little under 80 percent. Not bad, for a first try! So now we can sort of predict the weather based on the weather of the previous days. Of course the model is far from perfect, we'll need to use more data and tweek the paramters of the model to improve it, but thats for another time. For now lets check what the model actually uses to make decisions. "
      ],
      "metadata": {
        "id": "9HxIn5xV1StN"
      }
    },
    {
      "cell_type": "code",
      "source": [
        "# Pull out one tree from the forest\n",
        "tree = rf.estimators_[5]\n",
        "# Export the image to a dot file\n",
        "export_graphviz(tree, out_file = 'tree.dot', feature_names = weather_data_list, rounded = True, precision = 1)\n",
        "# Use dot file to create a graph\n",
        "(graph, ) = pydot.graph_from_dot_file('tree.dot')\n",
        "# Write graph to a png file\n",
        "graph.write_png('tree.png')"
      ],
      "metadata": {
        "id": "82CaPBOQ1S9n"
      },
      "execution_count": null,
      "outputs": []
    },
    {
      "cell_type": "markdown",
      "source": [
        "Now that is a pretty big tree if I say so myself! To make things a little bit easier we can limit the depth of trees to produce and understandable image. "
      ],
      "metadata": {
        "id": "vLKS525aKx1Z"
      }
    },
    {
      "cell_type": "code",
      "source": [
        "# Limit depth of tree to 3 levels\n",
        "rf_small = RandomForestRegressor(n_estimators=10, max_depth = 3)\n",
        "rf_small.fit(train_features, train_labels)\n",
        "# Extract the small tree\n",
        "tree_small = rf_small.estimators_[5]\n",
        "# Save the tree as a png image\n",
        "export_graphviz(tree_small, out_file = 'small_tree.dot', feature_names = weather_data_list, rounded = True, precision = 1)\n",
        "(graph, ) = pydot.graph_from_dot_file('small_tree.dot')\n",
        "graph.write_png('small_tree.png');"
      ],
      "metadata": {
        "id": "HHDcs61jKTHG"
      },
      "execution_count": null,
      "outputs": []
    },
    {
      "cell_type": "markdown",
      "source": [
        "This looks much more like it, now we can see how the model makes it decisions and how it comes to a conclusion. \n",
        "\n",
        "We can also quantify the usefulness of all the variables in the forest. Let's check it out!"
      ],
      "metadata": {
        "id": "lijiDto4LIZD"
      }
    },
    {
      "cell_type": "code",
      "source": [
        "# Get numerical feature importances\n",
        "importances = list(rf.feature_importances_)\n",
        "# List of tuples with variable and importance\n",
        "feature_importances = [(feature, round(importance, 2)) for feature, importance in zip(weather_data_list, importances)]\n",
        "# Sort the feature importances by most important first\n",
        "feature_importances = sorted(feature_importances, key = lambda x: x[1], reverse = True)\n",
        "# Print out the feature and importances \n",
        "[print('Variable: {:20} Importance: {}'.format(*pair)) for pair in feature_importances]; "
      ],
      "metadata": {
        "colab": {
          "base_uri": "https://localhost:8080/"
        },
        "id": "THPd5u9R18W7",
        "outputId": "5d8a2179-9a25-407a-9f06-3f4f7ec4b8e4"
      },
      "execution_count": null,
      "outputs": [
        {
          "output_type": "stream",
          "name": "stdout",
          "text": [
            "Variable: mean_1               Importance: 0.77\n",
            "Variable: hist                 Importance: 0.09\n",
            "Variable: max_1                Importance: 0.05\n",
            "Variable: min_1                Importance: 0.03\n",
            "Variable: YYYYMMDD             Importance: 0.01\n",
            "Variable: day                  Importance: 0.01\n",
            "Variable: mean_2               Importance: 0.01\n",
            "Variable: min_2                Importance: 0.01\n",
            "Variable: max_2                Importance: 0.01\n",
            "Variable: year                 Importance: 0.0\n",
            "Variable: month                Importance: 0.0\n"
          ]
        }
      ]
    },
    {
      "cell_type": "markdown",
      "source": [
        "The mean temperature from the previous day is the most important, which is a rather intuitive finding. If yesterday was nice, chances are that it is going to be nice today as well. Following is the historical average of the previous ten years, also not that surprising. The year is the same for the whole dataset, so ofcourse there is no conclusions to be made based on that. We could use these values to upgrade the model for further uses, but for now lets move on to a bit of visualisation. "
      ],
      "metadata": {
        "id": "ZWDa-qHBMITB"
      }
    },
    {
      "cell_type": "code",
      "source": [
        "# Dates of training values\n",
        "months = weather_data[:, weather_data_list.index('month')]\n",
        "days = weather_data[:, weather_data_list.index('day')]\n",
        "years = weather_data[:, weather_data_list.index('year')]\n",
        "# List and then convert to datetime object\n",
        "dates = [str(int(year)) + '-' + str(int(month)) + '-' + str(int(day)) for year, month, day in zip(years, months, days)]\n",
        "dates = [datetime.datetime.strptime(date, '%Y-%m-%d') for date in dates]\n",
        "# Dataframe with true values and dates\n",
        "true_data = pd.DataFrame(data = {'date': dates, 'actual': labels})\n",
        "# Dates of predictions\n",
        "months = test_features[:, weather_data_list.index('month')]\n",
        "days = test_features[:, weather_data_list.index('day')]\n",
        "years = test_features[:, weather_data_list.index('year')]\n",
        "# Column of dates\n",
        "test_dates = [str(int(year)) + '-' + str(int(month)) + '-' + str(int(day)) for year, month, day in zip(years, months, days)]\n",
        "# Convert to datetime objects\n",
        "test_dates = [datetime.datetime.strptime(date, '%Y-%m-%d') for date in test_dates]\n",
        "# Dataframe with predictions and dates\n",
        "predictions_data = pd.DataFrame(data = {'date': test_dates, 'prediction': predictions})\n",
        "# Plot the actual values\n",
        "plt.plot(true_data['date'], true_data['actual'], 'b-', label = 'actual')\n",
        "# Plot the predicted values\n",
        "plt.plot(predictions_data['date'], predictions_data['prediction'], 'ro', label = 'prediction')\n",
        "plt.xticks(rotation = '60'); \n",
        "plt.legend()\n",
        "# Graph labels\n",
        "plt.xlabel('Date'); plt.ylabel('Maximum Temperature (C)'); plt.title('Actual and Predicted Values');"
      ],
      "metadata": {
        "colab": {
          "base_uri": "https://localhost:8080/",
          "height": 326
        },
        "id": "UajjAOBWM6si",
        "outputId": "197c46b9-3de0-4062-cf2d-2d6a1257a7e5"
      },
      "execution_count": null,
      "outputs": [
        {
          "output_type": "display_data",
          "data": {
            "text/plain": [
              "<Figure size 432x288 with 1 Axes>"
            ],
            "image/png": "[encoded data removed]"
          },
          "metadata": {
            "needs_background": "light"
          }
        }
      ]
    },
    {
      "cell_type": "markdown",
      "source": [
        "See how our predicted values seem to be pretty close to the actual values, no really obvious outliers are visibile in the graph. Pretty good for a first try!\n"
      ],
      "metadata": {
        "id": "NvHhx4f1O-T7"
      }
    },
    {
      "cell_type": "markdown",
      "source": [
        "##Note on the ethical question of using algorithms. \n",
        "This notebook was designed soley for practising with the Random Forest Algorithm, however researchers always have to be carefull when working with algorithms. Start by critically assing your dataset and your mining techniques, and identify the biases that are in there.  Additionally, to prevent as much bias as possible from your data, think of providing alternative computing techniques to mine the same datasets. Also, be critical of the abilities of your algorithm and misinterpretation of data (e.g. sentiment analysis). When working with algorithms in serious project make sure to provide alternative interpretation of the same patterns, e.g. through human interpretation. And lastly, think about who is at fault when something goes wrong when using an algorithm: the makers, the implementors, the users? Provide tracability within your process. \n",
        "Concluding, when you are using algorithms within a project always be critical of the ethical and practical side of it. Make sure that there is a clear workflow throughout the project to be able to identify problems and biases as the researcher, but also for users. "
      ],
      "metadata": {
        "id": "EmmMwIe-HYKE"
      }
    },
    {
      "cell_type": "markdown",
      "source": [
        "\n",
        "\n",
        "\n",
        "###*For now this concludes this Jupyter Notebook. We've discussed and practiced with using the random forest algorithm for a regression analysis.* "
      ],
      "metadata": {
        "id": "R5QdkSZtO9Pc"
      }
    },
    {
      "cell_type": "markdown",
      "source": [
        "####Sources\n",
        "- https://www.knmi.nl/nederland-nu/klimatologie/daggegevens \n",
        "- https://towardsdatascience.com/random-forest-in-python-24d0893d51c0 "
      ],
      "metadata": {
        "id": "Zw3sh1BKQLv9"
      }
    }
  ]
}